{
 "cells": [
  {
   "cell_type": "markdown",
   "metadata": {},
   "source": [
    "### Projeto da primeira etapa\n",
    "- retornar dados da wikipedia sobre uma tema especifico, sabendo que a wikipedia\n",
    "nao fornece API direta para acesso aos dados contidos no site."
   ]
  },
  {
   "cell_type": "code",
   "execution_count": 55,
   "metadata": {},
   "outputs": [],
   "source": [
    "import pandas as pd\n",
    "from bs4 import BeautifulSoup\n",
    "from selenium import webdriver\n",
    "from selenium.webdriver.common.by import By\n",
    "from io import StringIO"
   ]
  },
  {
   "cell_type": "code",
   "execution_count": 56,
   "metadata": {},
   "outputs": [
    {
     "name": "stdout",
     "output_type": "stream",
     "text": [
      "pesquisa avancada\n"
     ]
    }
   ],
   "source": [
    "url = \"https://pt.wikipedia.org/wiki/Wikip%C3%A9dia:P%C3%A1gina_principal\"\n",
    "\n",
    "#tema = \"valor historico do dolar\"\n",
    "\n",
    "tema = \"comida brasileira\"\n",
    "\n",
    "chrome_options = webdriver.ChromeOptions()\n",
    "chrome_options.add_argument(\"--window-size=1920,1080\")\n",
    "\n",
    "driver = webdriver.Chrome(options=chrome_options)\n",
    "\n",
    "\n",
    "driver.get(url)\n",
    "search_box = driver.find_element(By.NAME,\"search\")\n",
    "search_box.send_keys(tema)\n",
    "search_box.submit()\n",
    "\n",
    "#trata os tipos de pesquisa e acessa a pagina 'wiki'\n",
    "if driver.find_elements(By.XPATH,'//*[@id=\"disambig\"]/table/tbody/tr/td[1]/span/a/img'):\n",
    "   print(\"pagina desambiguacao\")\n",
    "   driver.find_element(By.XPATH,'//*[@id=\"mw-content-text\"]/div[1]/ul/li[1]/a').click()\n",
    "elif driver.find_elements(By.XPATH,'//*[@id=\"firstHeading\"]'):\n",
    "    if driver.find_elements(By.XPATH,'//*[@id=\"firstHeading\"]')[0].text == \"Resultados da pesquisa\" :\n",
    "      print(\"pesquisa avancada\")\n",
    "      driver.find_element(By.XPATH,'//*[@id=\"mw-content-text\"]/div[3]/div[4]/ul/li[1]/div[2]/div[2]/div[1]/a').click()\n",
    "    else:\n",
    "       print(\"pagina wiki\")\n",
    "else:\n",
    "   print(\"pagina de desambiguacao\")\n",
    "\n",
    "html = driver.page_source\n",
    "driver.quit()"
   ]
  },
  {
   "cell_type": "code",
   "execution_count": 57,
   "metadata": {},
   "outputs": [],
   "source": [
    "html_parsed = BeautifulSoup(html,\"html.parser\")\n"
   ]
  },
  {
   "cell_type": "code",
   "execution_count": 58,
   "metadata": {},
   "outputs": [
    {
     "name": "stdout",
     "output_type": "stream",
     "text": [
      "    0                                                  1\n",
      "0 NaN  Esta página cita fontes, mas que não cobrem to...\n",
      "                                 Culinária do Brasil\n",
      "0                               Culinária por estado\n",
      "1  Acre Alagoas Amapá Amazonas Bahia Ceará Distri...\n",
      "2                                             Outros\n",
      "3                               Queijos Vinhos Doces\n",
      "4                                        Influências\n"
     ]
    },
    {
     "name": "stderr",
     "output_type": "stream",
     "text": [
      "/tmp/ipykernel_37826/2993667939.py:4: FutureWarning: Passing literal html to 'read_html' is deprecated and will be removed in a future version. To read from a literal string, wrap it in a 'StringIO' object.\n",
      "  df = pd.read_html(str(tabela))[0]\n",
      "/tmp/ipykernel_37826/2993667939.py:4: FutureWarning: Passing literal html to 'read_html' is deprecated and will be removed in a future version. To read from a literal string, wrap it in a 'StringIO' object.\n",
      "  df = pd.read_html(str(tabela))[0]\n"
     ]
    }
   ],
   "source": [
    "tabelas = html_parsed.find_all(\"table\")\n",
    "\n",
    "for tabela in tabelas:\n",
    "    df = pd.read_html(str(tabela))[0]\n",
    "    print(df.head()) "
   ]
  }
 ],
 "metadata": {
  "kernelspec": {
   "display_name": ".venv",
   "language": "python",
   "name": "python3"
  },
  "language_info": {
   "codemirror_mode": {
    "name": "ipython",
    "version": 3
   },
   "file_extension": ".py",
   "mimetype": "text/x-python",
   "name": "python",
   "nbconvert_exporter": "python",
   "pygments_lexer": "ipython3",
   "version": "3.12.3"
  }
 },
 "nbformat": 4,
 "nbformat_minor": 2
}
